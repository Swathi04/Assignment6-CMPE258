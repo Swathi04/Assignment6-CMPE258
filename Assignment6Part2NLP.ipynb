{
  "nbformat": 4,
  "nbformat_minor": 0,
  "metadata": {
    "colab": {
      "name": "Assignment6Part2NLP.ipynb",
      "provenance": [],
      "collapsed_sections": [],
      "authorship_tag": "ABX9TyN28gW65UVjJbN/adesDDkr",
      "include_colab_link": true
    },
    "kernelspec": {
      "name": "python3",
      "display_name": "Python 3"
    },
    "language_info": {
      "name": "python"
    }
  },
  "cells": [
    {
      "cell_type": "markdown",
      "metadata": {
        "id": "view-in-github",
        "colab_type": "text"
      },
      "source": [
        "<a href=\"https://colab.research.google.com/github/Swathi04/Assignment6-CMPE258/blob/main/Assignment6Part2NLP.ipynb\" target=\"_parent\"><img src=\"https://colab.research.google.com/assets/colab-badge.svg\" alt=\"Open In Colab\"/></a>"
      ]
    },
    {
      "cell_type": "markdown",
      "source": [
        "#Transfer learning on various modalities - NLP \n",
        "\n",
        "**Submitted By: Swathi Anandram**"
      ],
      "metadata": {
        "id": "GPvGTBKhMaa_"
      }
    },
    {
      "cell_type": "markdown",
      "source": [
        "##Setup"
      ],
      "metadata": {
        "id": "wGbx-rSsMgGj"
      }
    },
    {
      "cell_type": "code",
      "execution_count": null,
      "metadata": {
        "colab": {
          "base_uri": "https://localhost:8080/"
        },
        "id": "7Te_luJMMU_L",
        "outputId": "6113ad51-458f-4646-e602-f7a6192a7892"
      },
      "outputs": [
        {
          "output_type": "stream",
          "name": "stdout",
          "text": [
            "Version:  2.8.0\n",
            "Eager mode:  True\n",
            "Hub version:  0.12.0\n",
            "GPU is NOT AVAILABLE\n"
          ]
        }
      ],
      "source": [
        "import numpy as np\n",
        "\n",
        "import tensorflow as tf\n",
        "import tensorflow_hub as hub\n",
        "import tensorflow_datasets as tfds\n",
        "\n",
        "import matplotlib.pyplot as plt\n",
        "\n",
        "print(\"Version: \", tf.__version__)\n",
        "print(\"Eager mode: \", tf.executing_eagerly())\n",
        "print(\"Hub version: \", hub.__version__)\n",
        "print(\"GPU is\", \"available\" if tf.config.list_physical_devices('GPU') else \"NOT AVAILABLE\")"
      ]
    },
    {
      "cell_type": "markdown",
      "source": [
        "##IMDB Dataset"
      ],
      "metadata": {
        "id": "xpFWurI5MmVV"
      }
    },
    {
      "cell_type": "code",
      "source": [
        "train_data, test_data = tfds.load(name=\"imdb_reviews\", split=[\"train\", \"test\"], \n",
        "                                  batch_size=-1, as_supervised=True)\n",
        "\n",
        "train_examples, train_labels = tfds.as_numpy(train_data)\n",
        "test_examples, test_labels = tfds.as_numpy(test_data)"
      ],
      "metadata": {
        "id": "sWjRtZFzMj6O"
      },
      "execution_count": null,
      "outputs": []
    },
    {
      "cell_type": "markdown",
      "source": [
        "##Explore Data"
      ],
      "metadata": {
        "id": "TL0o4gGNMomj"
      }
    },
    {
      "cell_type": "code",
      "source": [
        "print(\"Training entries: {}, test entries: {}\".format(len(train_examples), len(test_examples)))"
      ],
      "metadata": {
        "colab": {
          "base_uri": "https://localhost:8080/"
        },
        "id": "C3CmDnGYMqjy",
        "outputId": "165e0fa0-ce1c-4eac-9a94-368dda00d06c"
      },
      "execution_count": null,
      "outputs": [
        {
          "output_type": "stream",
          "name": "stdout",
          "text": [
            "Training entries: 25000, test entries: 25000\n"
          ]
        }
      ]
    },
    {
      "cell_type": "code",
      "source": [
        "train_examples[:10]"
      ],
      "metadata": {
        "colab": {
          "base_uri": "https://localhost:8080/"
        },
        "id": "NasHt6PwMtk1",
        "outputId": "31e65a54-361f-4ca0-8231-4be1ab77fd65"
      },
      "execution_count": null,
      "outputs": [
        {
          "output_type": "execute_result",
          "data": {
            "text/plain": [
              "array([b\"This was an absolutely terrible movie. Don't be lured in by Christopher Walken or Michael Ironside. Both are great actors, but this must simply be their worst role in history. Even their great acting could not redeem this movie's ridiculous storyline. This movie is an early nineties US propaganda piece. The most pathetic scenes were those when the Columbian rebels were making their cases for revolutions. Maria Conchita Alonso appeared phony, and her pseudo-love affair with Walken was nothing but a pathetic emotional plug in a movie that was devoid of any real meaning. I am disappointed that there are movies like this, ruining actor's like Christopher Walken's good name. I could barely sit through it.\",\n",
              "       b'I have been known to fall asleep during films, but this is usually due to a combination of things including, really tired, being warm and comfortable on the sette and having just eaten a lot. However on this occasion I fell asleep because the film was rubbish. The plot development was constant. Constantly slow and boring. Things seemed to happen, but with no explanation of what was causing them or why. I admit, I may have missed part of the film, but i watched the majority of it and everything just seemed to happen of its own accord without any real concern for anything else. I cant recommend this film at all.',\n",
              "       b'Mann photographs the Alberta Rocky Mountains in a superb fashion, and Jimmy Stewart and Walter Brennan give enjoyable performances as they always seem to do. <br /><br />But come on Hollywood - a Mountie telling the people of Dawson City, Yukon to elect themselves a marshal (yes a marshal!) and to enforce the law themselves, then gunfighters battling it out on the streets for control of the town? <br /><br />Nothing even remotely resembling that happened on the Canadian side of the border during the Klondike gold rush. Mr. Mann and company appear to have mistaken Dawson City for Deadwood, the Canadian North for the American Wild West.<br /><br />Canadian viewers be prepared for a Reefer Madness type of enjoyable howl with this ludicrous plot, or, to shake your head in disgust.',\n",
              "       b'This is the kind of film for a snowy Sunday afternoon when the rest of the world can go ahead with its own business as you descend into a big arm-chair and mellow for a couple of hours. Wonderful performances from Cher and Nicolas Cage (as always) gently row the plot along. There are no rapids to cross, no dangerous waters, just a warm and witty paddle through New York life at its best. A family film in every sense and one that deserves the praise it received.',\n",
              "       b'As others have mentioned, all the women that go nude in this film are mostly absolutely gorgeous. The plot very ably shows the hypocrisy of the female libido. When men are around they want to be pursued, but when no \"men\" are around, they become the pursuers of a 14 year old boy. And the boy becomes a man really fast (we should all be so lucky at this age!). He then gets up the courage to pursue his true love.',\n",
              "       b\"This is a film which should be seen by anybody interested in, effected by, or suffering from an eating disorder. It is an amazingly accurate and sensitive portrayal of bulimia in a teenage girl, its causes and its symptoms. The girl is played by one of the most brilliant young actresses working in cinema today, Alison Lohman, who was later so spectacular in 'Where the Truth Lies'. I would recommend that this film be shown in all schools, as you will never see a better on this subject. Alison Lohman is absolutely outstanding, and one marvels at her ability to convey the anguish of a girl suffering from this compulsive disorder. If barometers tell us the air pressure, Alison Lohman tells us the emotional pressure with the same degree of accuracy. Her emotional range is so precise, each scene could be measured microscopically for its gradations of trauma, on a scale of rising hysteria and desperation which reaches unbearable intensity. Mare Winningham is the perfect choice to play her mother, and does so with immense sympathy and a range of emotions just as finely tuned as Lohman's. Together, they make a pair of sensitive emotional oscillators vibrating in resonance with one another. This film is really an astonishing achievement, and director Katt Shea should be proud of it. The only reason for not seeing it is if you are not interested in people. But even if you like nature films best, this is after all animal behaviour at the sharp edge. Bulimia is an extreme version of how a tormented soul can destroy her own body in a frenzy of despair. And if we don't sympathise with people suffering from the depths of despair, then we are dead inside.\",\n",
              "       b'Okay, you have:<br /><br />Penelope Keith as Miss Herringbone-Tweed, B.B.E. (Backbone of England.) She\\'s killed off in the first scene - that\\'s right, folks; this show has no backbone!<br /><br />Peter O\\'Toole as Ol\\' Colonel Cricket from The First War and now the emblazered Lord of the Manor.<br /><br />Joanna Lumley as the ensweatered Lady of the Manor, 20 years younger than the colonel and 20 years past her own prime but still glamourous (Brit spelling, not mine) enough to have a toy-boy on the side. It\\'s alright, they have Col. Cricket\\'s full knowledge and consent (they guy even comes \\'round for Christmas!) Still, she\\'s considerate of the colonel enough to have said toy-boy her own age (what a gal!)<br /><br />David McCallum as said toy-boy, equally as pointlessly glamourous as his squeeze. Pilcher couldn\\'t come up with any cover for him within the story, so she gave him a hush-hush job at the Circus.<br /><br />and finally:<br /><br />Susan Hampshire as Miss Polonia Teacups, Venerable Headmistress of the Venerable Girls\\' Boarding-School, serving tea in her office with a dash of deep, poignant advice for life in the outside world just before graduation. Her best bit of advice: \"I\\'ve only been to Nancherrow (the local Stately Home of England) once. I thought it was very beautiful but, somehow, not part of the real world.\" Well, we can\\'t say they didn\\'t warn us.<br /><br />Ah, Susan - time was, your character would have been running the whole show. They don\\'t write \\'em like that any more. Our loss, not yours.<br /><br />So - with a cast and setting like this, you have the re-makings of \"Brideshead Revisited,\" right?<br /><br />Wrong! They took these 1-dimensional supporting roles because they paid so well. After all, acting is one of the oldest temp-jobs there is (YOU name another!)<br /><br />First warning sign: lots and lots of backlighting. They get around it by shooting outdoors - \"hey, it\\'s just the sunlight!\"<br /><br />Second warning sign: Leading Lady cries a lot. When not crying, her eyes are moist. That\\'s the law of romance novels: Leading Lady is \"dewy-eyed.\"<br /><br />Henceforth, Leading Lady shall be known as L.L.<br /><br />Third warning sign: L.L. actually has stars in her eyes when she\\'s in love. Still, I\\'ll give Emily Mortimer an award just for having to act with that spotlight in her eyes (I wonder . did they use contacts?)<br /><br />And lastly, fourth warning sign: no on-screen female character is \"Mrs.\" She\\'s either \"Miss\" or \"Lady.\"<br /><br />When all was said and done, I still couldn\\'t tell you who was pursuing whom and why. I couldn\\'t even tell you what was said and done.<br /><br />To sum up: they all live through World War II without anything happening to them at all.<br /><br />OK, at the end, L.L. finds she\\'s lost her parents to the Japanese prison camps and baby sis comes home catatonic. Meanwhile (there\\'s always a \"meanwhile,\") some young guy L.L. had a crush on (when, I don\\'t know) comes home from some wartime tough spot and is found living on the street by Lady of the Manor (must be some street if SHE\\'s going to find him there.) Both war casualties are whisked away to recover at Nancherrow (SOMEBODY has to be \"whisked away\" SOMEWHERE in these romance stories!)<br /><br />Great drama.',\n",
              "       b'The film is based on a genuine 1950s novel.<br /><br />Journalist Colin McInnes wrote a set of three \"London novels\": \"Absolute Beginners\", \"City of Spades\" and \"Mr Love and Justice\". I have read all three. The first two are excellent. The last, perhaps an experiment that did not come off. But McInnes\\'s work is highly acclaimed; and rightly so. This musical is the novelist\\'s ultimate nightmare - to see the fruits of one\\'s mind being turned into a glitzy, badly-acted, soporific one-dimensional apology of a film that says it captures the spirit of 1950s London, and does nothing of the sort.<br /><br />Thank goodness Colin McInnes wasn\\'t alive to witness it.',\n",
              "       b'I really love the sexy action and sci-fi films of the sixties and its because of the actress\\'s that appeared in them. They found the sexiest women to be in these films and it didn\\'t matter if they could act (Remember \"Candy\"?). The reason I was disappointed by this film was because it wasn\\'t nostalgic enough. The story here has a European sci-fi film called \"Dragonfly\" being made and the director is fired. So the producers decide to let a young aspiring filmmaker (Jeremy Davies) to complete the picture. They\\'re is one real beautiful woman in the film who plays Dragonfly but she\\'s barely in it. Film is written and directed by Roman Coppola who uses some of his fathers exploits from his early days and puts it into the script. I wish the film could have been an homage to those early films. They could have lots of cameos by actors who appeared in them. There is one actor in this film who was popular from the sixties and its John Phillip Law (Barbarella). Gerard Depardieu, Giancarlo Giannini and Dean Stockwell appear as well. I guess I\\'m going to have to continue waiting for a director to make a good homage to the films of the sixties. If any are reading this, \"Make it as sexy as you can\"! I\\'ll be waiting!',\n",
              "       b'Sure, this one isn\\'t really a blockbuster, nor does it target such a position. \"Dieter\" is the first name of a quite popular German musician, who is either loved or hated for his kind of acting and thats exactly what this movie is about. It is based on the autobiography \"Dieter Bohlen\" wrote a few years ago but isn\\'t meant to be accurate on that. The movie is filled with some sexual offensive content (at least for American standard) which is either amusing (not for the other \"actors\" of course) or dumb - it depends on your individual kind of humor or on you being a \"Bohlen\"-Fan or not. Technically speaking there isn\\'t much to criticize. Speaking of me I find this movie to be an OK-movie.'],\n",
              "      dtype=object)"
            ]
          },
          "metadata": {},
          "execution_count": 18
        }
      ]
    },
    {
      "cell_type": "code",
      "source": [
        "train_labels[:10]"
      ],
      "metadata": {
        "colab": {
          "base_uri": "https://localhost:8080/"
        },
        "id": "Gi-6v5uGMvp-",
        "outputId": "6ab8ec9d-eb64-4140-f2c7-52a0294a0cd9"
      },
      "execution_count": null,
      "outputs": [
        {
          "output_type": "execute_result",
          "data": {
            "text/plain": [
              "array([0, 0, 0, 1, 1, 1, 0, 0, 0, 0])"
            ]
          },
          "metadata": {},
          "execution_count": 19
        }
      ]
    },
    {
      "cell_type": "markdown",
      "source": [
        "##Build Model"
      ],
      "metadata": {
        "id": "wkI0msP3MwVb"
      }
    },
    {
      "cell_type": "code",
      "source": [
        "model = \"https://tfhub.dev/google/nnlm-en-dim50/2\"\n",
        "hub_layer = hub.KerasLayer(model, input_shape=[], dtype=tf.string, trainable=True)\n",
        "hub_layer(train_examples[:3])"
      ],
      "metadata": {
        "colab": {
          "base_uri": "https://localhost:8080/"
        },
        "id": "ar_6dU6TMxxv",
        "outputId": "c3736a68-6587-4d24-c7de-d7ad584b3056"
      },
      "execution_count": null,
      "outputs": [
        {
          "output_type": "execute_result",
          "data": {
            "text/plain": [
              "<tf.Tensor: shape=(3, 50), dtype=float32, numpy=\n",
              "array([[ 0.5423195 , -0.0119017 ,  0.06337538,  0.06862972, -0.16776837,\n",
              "        -0.10581174,  0.16865303, -0.04998824, -0.31148055,  0.07910346,\n",
              "         0.15442263,  0.01488662,  0.03930153,  0.19772711, -0.12215476,\n",
              "        -0.04120981, -0.2704109 , -0.21922152,  0.26517662, -0.80739075,\n",
              "         0.25833532, -0.3100421 ,  0.28683215,  0.1943387 , -0.29036492,\n",
              "         0.03862849, -0.7844411 , -0.0479324 ,  0.4110299 , -0.36388892,\n",
              "        -0.58034706,  0.30269456,  0.3630897 , -0.15227164, -0.44391504,\n",
              "         0.19462997,  0.19528408,  0.05666234,  0.2890704 , -0.28468323,\n",
              "        -0.00531206,  0.0571938 , -0.3201318 , -0.04418665, -0.08550783,\n",
              "        -0.55847436, -0.23336391, -0.20782952, -0.03543064, -0.17533456],\n",
              "       [ 0.56338924, -0.12339553, -0.10862679,  0.7753425 , -0.07667089,\n",
              "        -0.15752277,  0.01872335, -0.08169781, -0.3521876 ,  0.4637341 ,\n",
              "        -0.08492756,  0.07166859, -0.00670817,  0.12686075, -0.19326553,\n",
              "        -0.52626437, -0.3295823 ,  0.14394785,  0.09043556, -0.5417555 ,\n",
              "         0.02468163, -0.15456742,  0.68333143,  0.09068331, -0.45327246,\n",
              "         0.23180096, -0.8615696 ,  0.34480393,  0.12838456, -0.58759046,\n",
              "        -0.4071231 ,  0.23061076,  0.48426893, -0.27128142, -0.5380916 ,\n",
              "         0.47016326,  0.22572741, -0.00830663,  0.2846242 , -0.304985  ,\n",
              "         0.04400365,  0.25025874,  0.14867121,  0.40717036, -0.15422426,\n",
              "        -0.06878027, -0.40825695, -0.3149215 ,  0.09283665, -0.20183425],\n",
              "       [ 0.7456154 ,  0.21256861,  0.14400336,  0.5233862 ,  0.11032254,\n",
              "         0.00902788, -0.3667802 , -0.08938274, -0.24165542,  0.33384594,\n",
              "        -0.11194605, -0.01460047, -0.0071645 ,  0.19562712,  0.00685216,\n",
              "        -0.24886718, -0.42796347,  0.18620004, -0.05241098, -0.66462487,\n",
              "         0.13449019, -0.22205497,  0.08633006,  0.43685386,  0.2972681 ,\n",
              "         0.36140734, -0.7196889 ,  0.05291241, -0.14316116, -0.1573394 ,\n",
              "        -0.15056328, -0.05988009, -0.08178931, -0.15569411, -0.09303783,\n",
              "        -0.18971172,  0.07620788, -0.02541647, -0.27134508, -0.3392682 ,\n",
              "        -0.10296468, -0.27275252, -0.34078008,  0.20083304, -0.26644835,\n",
              "         0.00655449, -0.05141488, -0.04261917, -0.45413622,  0.20023568]],\n",
              "      dtype=float32)>"
            ]
          },
          "metadata": {},
          "execution_count": 20
        }
      ]
    },
    {
      "cell_type": "code",
      "source": [
        "model = tf.keras.Sequential()\n",
        "model.add(hub_layer)\n",
        "model.add(tf.keras.layers.Dense(16, activation='relu'))\n",
        "model.add(tf.keras.layers.Dense(1))\n",
        "\n",
        "model.summary()"
      ],
      "metadata": {
        "colab": {
          "base_uri": "https://localhost:8080/"
        },
        "id": "oHYDw_eeM0tK",
        "outputId": "0eb6dc34-aefa-4f13-dd6c-fa01b192cf21"
      },
      "execution_count": null,
      "outputs": [
        {
          "output_type": "stream",
          "name": "stdout",
          "text": [
            "Model: \"sequential_1\"\n",
            "_________________________________________________________________\n",
            " Layer (type)                Output Shape              Param #   \n",
            "=================================================================\n",
            " keras_layer_1 (KerasLayer)  (None, 50)                48190600  \n",
            "                                                                 \n",
            " dense_2 (Dense)             (None, 16)                816       \n",
            "                                                                 \n",
            " dense_3 (Dense)             (None, 1)                 17        \n",
            "                                                                 \n",
            "=================================================================\n",
            "Total params: 48,191,433\n",
            "Trainable params: 48,191,433\n",
            "Non-trainable params: 0\n",
            "_________________________________________________________________\n"
          ]
        }
      ]
    },
    {
      "cell_type": "markdown",
      "source": [
        "##Loss Function and Optimiser"
      ],
      "metadata": {
        "id": "l7h83kZjM3wn"
      }
    },
    {
      "cell_type": "code",
      "source": [
        "model.compile(optimizer='adam',\n",
        "              loss=tf.losses.BinaryCrossentropy(from_logits=True),\n",
        "              metrics=[tf.metrics.BinaryAccuracy(threshold=0.0, name='accuracy')])"
      ],
      "metadata": {
        "id": "-uqYXmIsM555"
      },
      "execution_count": null,
      "outputs": []
    },
    {
      "cell_type": "markdown",
      "source": [
        "##Create Validation Test"
      ],
      "metadata": {
        "id": "XIvJ_TkgM7pF"
      }
    },
    {
      "cell_type": "code",
      "source": [
        "x_val = train_examples[:10000]\n",
        "partial_x_train = train_examples[10000:]\n",
        "\n",
        "y_val = train_labels[:10000]\n",
        "partial_y_train = train_labels[10000:]"
      ],
      "metadata": {
        "id": "4vbEkPBsM-VE"
      },
      "execution_count": null,
      "outputs": []
    },
    {
      "cell_type": "markdown",
      "source": [
        "##Train the model"
      ],
      "metadata": {
        "id": "dpZY2fhJNBsq"
      }
    },
    {
      "cell_type": "code",
      "source": [
        "history = model.fit(partial_x_train,\n",
        "                    partial_y_train,\n",
        "                    epochs=40,\n",
        "                    batch_size=512,\n",
        "                    validation_data=(x_val, y_val),\n",
        "                    verbose=1)"
      ],
      "metadata": {
        "colab": {
          "base_uri": "https://localhost:8080/"
        },
        "id": "CA1vNHfBNDLs",
        "outputId": "a2f63d31-c0bf-4eab-dc0a-65d34926e839"
      },
      "execution_count": null,
      "outputs": [
        {
          "output_type": "stream",
          "name": "stdout",
          "text": [
            "Epoch 1/40\n",
            "30/30 [==============================] - 19s 588ms/step - loss: 0.6585 - accuracy: 0.6305 - val_loss: 0.6118 - val_accuracy: 0.7265\n",
            "Epoch 2/40\n",
            "30/30 [==============================] - 17s 577ms/step - loss: 0.5474 - accuracy: 0.7850 - val_loss: 0.5075 - val_accuracy: 0.7905\n",
            "Epoch 3/40\n",
            "30/30 [==============================] - 18s 603ms/step - loss: 0.4189 - accuracy: 0.8503 - val_loss: 0.4128 - val_accuracy: 0.8309\n",
            "Epoch 4/40\n",
            "30/30 [==============================] - 17s 579ms/step - loss: 0.3054 - accuracy: 0.8949 - val_loss: 0.3501 - val_accuracy: 0.8550\n",
            "Epoch 5/40\n",
            "30/30 [==============================] - 17s 584ms/step - loss: 0.2247 - accuracy: 0.9263 - val_loss: 0.3271 - val_accuracy: 0.8636\n",
            "Epoch 6/40\n",
            "30/30 [==============================] - 17s 582ms/step - loss: 0.1686 - accuracy: 0.9489 - val_loss: 0.3078 - val_accuracy: 0.8710\n",
            "Epoch 7/40\n",
            "30/30 [==============================] - 17s 580ms/step - loss: 0.1252 - accuracy: 0.9676 - val_loss: 0.3035 - val_accuracy: 0.8752\n",
            "Epoch 8/40\n",
            "30/30 [==============================] - 17s 579ms/step - loss: 0.0922 - accuracy: 0.9804 - val_loss: 0.3061 - val_accuracy: 0.8748\n",
            "Epoch 9/40\n",
            "30/30 [==============================] - 17s 581ms/step - loss: 0.0680 - accuracy: 0.9883 - val_loss: 0.3129 - val_accuracy: 0.8752\n",
            "Epoch 10/40\n",
            "30/30 [==============================] - 17s 579ms/step - loss: 0.0500 - accuracy: 0.9934 - val_loss: 0.3229 - val_accuracy: 0.8733\n",
            "Epoch 11/40\n",
            "30/30 [==============================] - 17s 579ms/step - loss: 0.0361 - accuracy: 0.9969 - val_loss: 0.3345 - val_accuracy: 0.8738\n",
            "Epoch 12/40\n",
            "30/30 [==============================] - 17s 580ms/step - loss: 0.0262 - accuracy: 0.9986 - val_loss: 0.3487 - val_accuracy: 0.8724\n",
            "Epoch 13/40\n",
            "30/30 [==============================] - 17s 582ms/step - loss: 0.0193 - accuracy: 0.9991 - val_loss: 0.3610 - val_accuracy: 0.8723\n",
            "Epoch 14/40\n",
            "30/30 [==============================] - 17s 579ms/step - loss: 0.0144 - accuracy: 0.9993 - val_loss: 0.3755 - val_accuracy: 0.8712\n",
            "Epoch 15/40\n",
            "30/30 [==============================] - 17s 571ms/step - loss: 0.0107 - accuracy: 0.9997 - val_loss: 0.3930 - val_accuracy: 0.8695\n",
            "Epoch 16/40\n",
            "30/30 [==============================] - 17s 574ms/step - loss: 0.0080 - accuracy: 0.9999 - val_loss: 0.4068 - val_accuracy: 0.8708\n",
            "Epoch 17/40\n",
            "30/30 [==============================] - 17s 576ms/step - loss: 0.0061 - accuracy: 0.9999 - val_loss: 0.4208 - val_accuracy: 0.8706\n",
            "Epoch 18/40\n",
            "30/30 [==============================] - 17s 576ms/step - loss: 0.0047 - accuracy: 0.9999 - val_loss: 0.4347 - val_accuracy: 0.8694\n",
            "Epoch 19/40\n",
            "30/30 [==============================] - 17s 579ms/step - loss: 0.0037 - accuracy: 1.0000 - val_loss: 0.4473 - val_accuracy: 0.8689\n",
            "Epoch 20/40\n",
            "30/30 [==============================] - 17s 581ms/step - loss: 0.0030 - accuracy: 1.0000 - val_loss: 0.4582 - val_accuracy: 0.8688\n",
            "Epoch 21/40\n",
            "30/30 [==============================] - 17s 581ms/step - loss: 0.0025 - accuracy: 1.0000 - val_loss: 0.4686 - val_accuracy: 0.8696\n",
            "Epoch 22/40\n",
            "30/30 [==============================] - 17s 579ms/step - loss: 0.0021 - accuracy: 1.0000 - val_loss: 0.4787 - val_accuracy: 0.8689\n",
            "Epoch 23/40\n",
            "30/30 [==============================] - 17s 582ms/step - loss: 0.0018 - accuracy: 1.0000 - val_loss: 0.4879 - val_accuracy: 0.8693\n",
            "Epoch 24/40\n",
            "30/30 [==============================] - 17s 577ms/step - loss: 0.0015 - accuracy: 1.0000 - val_loss: 0.4966 - val_accuracy: 0.8685\n",
            "Epoch 25/40\n",
            "30/30 [==============================] - 17s 581ms/step - loss: 0.0014 - accuracy: 1.0000 - val_loss: 0.5047 - val_accuracy: 0.8678\n",
            "Epoch 26/40\n",
            "30/30 [==============================] - 17s 583ms/step - loss: 0.0012 - accuracy: 1.0000 - val_loss: 0.5126 - val_accuracy: 0.8679\n",
            "Epoch 27/40\n",
            "30/30 [==============================] - 17s 575ms/step - loss: 0.0011 - accuracy: 1.0000 - val_loss: 0.5202 - val_accuracy: 0.8687\n",
            "Epoch 28/40\n",
            "30/30 [==============================] - 17s 580ms/step - loss: 9.3876e-04 - accuracy: 1.0000 - val_loss: 0.5270 - val_accuracy: 0.8680\n",
            "Epoch 29/40\n",
            "30/30 [==============================] - 17s 583ms/step - loss: 8.4266e-04 - accuracy: 1.0000 - val_loss: 0.5336 - val_accuracy: 0.8678\n",
            "Epoch 30/40\n",
            "30/30 [==============================] - 17s 581ms/step - loss: 7.6067e-04 - accuracy: 1.0000 - val_loss: 0.5399 - val_accuracy: 0.8683\n",
            "Epoch 31/40\n",
            "30/30 [==============================] - 17s 579ms/step - loss: 6.9063e-04 - accuracy: 1.0000 - val_loss: 0.5463 - val_accuracy: 0.8675\n",
            "Epoch 32/40\n",
            "30/30 [==============================] - 17s 577ms/step - loss: 6.2885e-04 - accuracy: 1.0000 - val_loss: 0.5522 - val_accuracy: 0.8674\n",
            "Epoch 33/40\n",
            "30/30 [==============================] - 17s 574ms/step - loss: 5.7468e-04 - accuracy: 1.0000 - val_loss: 0.5577 - val_accuracy: 0.8676\n",
            "Epoch 34/40\n",
            "30/30 [==============================] - 17s 573ms/step - loss: 5.2796e-04 - accuracy: 1.0000 - val_loss: 0.5634 - val_accuracy: 0.8674\n",
            "Epoch 35/40\n",
            "30/30 [==============================] - 17s 578ms/step - loss: 4.8561e-04 - accuracy: 1.0000 - val_loss: 0.5685 - val_accuracy: 0.8676\n",
            "Epoch 36/40\n",
            "30/30 [==============================] - 17s 578ms/step - loss: 4.4865e-04 - accuracy: 1.0000 - val_loss: 0.5734 - val_accuracy: 0.8671\n",
            "Epoch 37/40\n",
            "30/30 [==============================] - 17s 583ms/step - loss: 4.1561e-04 - accuracy: 1.0000 - val_loss: 0.5787 - val_accuracy: 0.8670\n",
            "Epoch 38/40\n",
            "30/30 [==============================] - 17s 584ms/step - loss: 3.8647e-04 - accuracy: 1.0000 - val_loss: 0.5831 - val_accuracy: 0.8670\n",
            "Epoch 39/40\n",
            "30/30 [==============================] - 17s 582ms/step - loss: 3.5990e-04 - accuracy: 1.0000 - val_loss: 0.5879 - val_accuracy: 0.8673\n",
            "Epoch 40/40\n",
            "30/30 [==============================] - 17s 582ms/step - loss: 3.3528e-04 - accuracy: 1.0000 - val_loss: 0.5925 - val_accuracy: 0.8666\n"
          ]
        }
      ]
    },
    {
      "cell_type": "markdown",
      "source": [
        "##Evaluate the model"
      ],
      "metadata": {
        "id": "62a1Yn8sNFtB"
      }
    },
    {
      "cell_type": "code",
      "source": [
        "results = model.evaluate(test_examples, test_labels)\n",
        "\n",
        "print(results)"
      ],
      "metadata": {
        "colab": {
          "base_uri": "https://localhost:8080/"
        },
        "id": "JOpSKcUSNHPb",
        "outputId": "7618688a-1f1a-442f-ac3b-7044babee88c"
      },
      "execution_count": null,
      "outputs": [
        {
          "output_type": "stream",
          "name": "stdout",
          "text": [
            "782/782 [==============================] - 52s 66ms/step - loss: 0.6681 - accuracy: 0.8456\n",
            "[0.6681076288223267, 0.8456400036811829]\n"
          ]
        }
      ]
    },
    {
      "cell_type": "markdown",
      "source": [
        "##Create a graph of accuracy and loss over time"
      ],
      "metadata": {
        "id": "zG_FfppUNJyA"
      }
    },
    {
      "cell_type": "code",
      "source": [
        "history_dict = history.history\n",
        "history_dict.keys()"
      ],
      "metadata": {
        "colab": {
          "base_uri": "https://localhost:8080/"
        },
        "id": "W6oLC39bNKoE",
        "outputId": "0c2f8cb7-4dd7-49f8-e210-20635ebf2f7e"
      },
      "execution_count": null,
      "outputs": [
        {
          "output_type": "execute_result",
          "data": {
            "text/plain": [
              "dict_keys(['loss', 'accuracy', 'val_loss', 'val_accuracy'])"
            ]
          },
          "metadata": {},
          "execution_count": 26
        }
      ]
    },
    {
      "cell_type": "code",
      "source": [
        "acc = history_dict['accuracy']\n",
        "val_acc = history_dict['val_accuracy']\n",
        "loss = history_dict['loss']\n",
        "val_loss = history_dict['val_loss']\n",
        "\n",
        "epochs = range(1, len(acc) + 1)\n",
        "\n",
        "# \"bo\" is for \"blue dot\"\n",
        "plt.plot(epochs, loss, 'bo', label='Training loss')\n",
        "# b is for \"solid blue line\"\n",
        "plt.plot(epochs, val_loss, 'b', label='Validation loss')\n",
        "plt.title('Training and validation loss')\n",
        "plt.xlabel('Epochs')\n",
        "plt.ylabel('Loss')\n",
        "plt.legend()\n",
        "\n",
        "plt.show()"
      ],
      "metadata": {
        "colab": {
          "base_uri": "https://localhost:8080/",
          "height": 295
        },
        "id": "SXToG-J7NNob",
        "outputId": "9adcc8b9-2e3d-4d70-ebd2-6ebaeab05a9c"
      },
      "execution_count": null,
      "outputs": [
        {
          "output_type": "display_data",
          "data": {
            "text/plain": [
              "<Figure size 432x288 with 1 Axes>"
            ],
            "image/png": "[encoded data removed]"
          },
          "metadata": {
            "needs_background": "light"
          }
        }
      ]
    },
    {
      "cell_type": "code",
      "source": [
        "plt.clf()   # clear figure\n",
        "\n",
        "plt.plot(epochs, acc, 'bo', label='Training acc')\n",
        "plt.plot(epochs, val_acc, 'b', label='Validation acc')\n",
        "plt.title('Training and validation accuracy')\n",
        "plt.xlabel('Epochs')\n",
        "plt.ylabel('Accuracy')\n",
        "plt.legend()\n",
        "\n",
        "plt.show()"
      ],
      "metadata": {
        "colab": {
          "base_uri": "https://localhost:8080/",
          "height": 295
        },
        "id": "tu1S-U4WNQ03",
        "outputId": "37d7d6d3-7de4-41b8-b3cc-979f59c11811"
      },
      "execution_count": null,
      "outputs": [
        {
          "output_type": "display_data",
          "data": {
            "text/plain": [
              "<Figure size 432x288 with 1 Axes>"
            ],
            "image/png": "[encoded data removed]"
          },
          "metadata": {
            "needs_background": "light"
          }
        }
      ]
    }
  ]
}